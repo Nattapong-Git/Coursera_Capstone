{
 "cells": [
  {
   "cell_type": "markdown",
   "metadata": {},
   "source": [
    "# IBM Capstone"
   ]
  },
  {
   "cell_type": "markdown",
   "metadata": {},
   "source": [
    "# Background\n"
   ]
  },
  {
   "cell_type": "markdown",
   "metadata": {},
   "source": [
    "In Thailand, there is expotentially growing demand for coffee drinks in recent years. According to Euromonitor, the coffee consumption in Thailand ranked 41th out of all countries. In addition, the average age of coffee consumers in Thailand edged down to 16-18 years old from 23 years old in the past years. These numbers confirm that there is still high demand for coffee and coffee shop business is still a highly profitable business in Thailand these days."
   ]
  },
  {
   "cell_type": "markdown",
   "metadata": {},
   "source": [
    "# Business plan"
   ]
  },
  {
   "cell_type": "markdown",
   "metadata": {},
   "source": [
    "With high demand for coffee in Thailand, especially among Thai teenagers and students, I plan to open my own cafe and consider that my target group will be unversity students. My cafe accordingly should be in a spot that can best attract this consumer group. \n",
    "\n",
    "So, I decide to set up my cafe near Chulalongkorn University, one of the most famous and largest universities in my city.\n",
    "After planning, I plan that my cafe needs to be within a one-kilometer range around the University.\n",
    "\n"
   ]
  },
  {
   "cell_type": "markdown",
   "metadata": {},
   "source": [
    "# Data "
   ]
  },
  {
   "cell_type": "markdown",
   "metadata": {},
   "source": [
    "Data used in this project will be imported from Foursquare. \n",
    "I will insert Chulalongkorn University location and search for cafes around the University using Foursquare API. \n",
    "After that, I will retrive all the locations data of the cafes, including their names and locations, to plot on a map."
   ]
  },
  {
   "cell_type": "code",
   "execution_count": null,
   "metadata": {},
   "outputs": [],
   "source": []
  }
 ],
 "metadata": {
  "kernelspec": {
   "display_name": "Python 3",
   "language": "python",
   "name": "python3"
  },
  "language_info": {
   "codemirror_mode": {
    "name": "ipython",
    "version": 3
   },
   "file_extension": ".py",
   "mimetype": "text/x-python",
   "name": "python",
   "nbconvert_exporter": "python",
   "pygments_lexer": "ipython3",
   "version": "3.7.7"
  }
 },
 "nbformat": 4,
 "nbformat_minor": 4
}
